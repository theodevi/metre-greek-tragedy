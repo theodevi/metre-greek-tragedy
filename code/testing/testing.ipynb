{
 "cells": [
  {
   "cell_type": "code",
   "execution_count": 1,
   "id": "66c78801-2ba6-45d5-bfa6-9e5fc422cd9f",
   "metadata": {},
   "outputs": [
    {
     "name": "stderr",
     "output_type": "stream",
     "text": [
      "/Library/Frameworks/Python.framework/Versions/3.12/lib/python3.12/site-packages/tqdm/auto.py:21: TqdmWarning: IProgress not found. Please update jupyter and ipywidgets. See https://ipywidgets.readthedocs.io/en/stable/user_install.html\n",
      "  from .autonotebook import tqdm as notebook_tqdm\n",
      "/Library/Frameworks/Python.framework/Versions/3.12/lib/python3.12/site-packages/huggingface_hub/file_download.py:1132: FutureWarning: `resume_download` is deprecated and will be removed in version 1.0.0. Downloads always resume when possible. If you want to force a new download, use `force_download=True`.\n",
      "  warnings.warn(\n",
      "/Library/Frameworks/Python.framework/Versions/3.12/lib/python3.12/site-packages/huggingface_hub/file_download.py:1132: FutureWarning: `resume_download` is deprecated and will be removed in version 1.0.0. Downloads always resume when possible. If you want to force a new download, use `force_download=True`.\n",
      "  warnings.warn(\n"
     ]
    }
   ],
   "source": [
    "%run final_functions_processing.ipynb"
   ]
  },
  {
   "cell_type": "code",
   "execution_count": 21,
   "id": "8395816e-4d97-47bc-81d0-b11a7b4daf32",
   "metadata": {},
   "outputs": [
    {
     "name": "stdout",
     "output_type": "stream",
     "text": [
      "dactylic\n",
      "[{'line': 'ώ πάτερ, ώ πάτερ άρ’ ετυμός γε', 'metre': ['dactylic', 'dactylic', 'dactylic', 'dactylic']}, {'line': 'ώς σΰ μετ’ ορνίθων προλιπών έμέ', 'metre': ['dactylic', 'dactylic', 'dactylic', 'dactylic']}, {'line': 'μῆνιν ἄειδε, θεά, Πηληϊάδεω Ἀχιλῆος', 'metre': ['dactylic', 'dactylic', 'dactylic', 'dactylic', 'dactylic', 'dactylic']}]\n",
      "[{'line': 'οὐλομένην, ἣ μυρί’ Ἀχαιοῖς ἄλγε’ ἔθηκες', 'metre': ['dactylic', 'iambic', 'iambic', 'dactylic', 'dactylic']}, {'line': 'ὦ ξεῖν’, ἀγγέλλειν Λακεδαιμονίοις ὅτι τῇδε', 'metre': ['dactylic', 'dactylic', 'dactylic', 'dactylic', 'dactylic', 'dactylic']}, {'line': 'ἐξ οὗ δὴ τὰ πρῶτα διαστήτην ἐρίσαντε.', 'metre': ['dactylic', 'dactylic', 'dactylic', 'dactylic', 'dactylic', 'dactylic']}]\n",
      "iambic\n",
      "[{'line': 'ἥκω Διὸς παῖς τήνδε Θηβαίων χθὀνα', 'metre': ['iambic', 'iambic', 'iambic', 'iambic']}, {'line': 'ήδιστον ευρών, δεΰρο συνακολούθε', 'metre': ['iambic', 'iambic', 'iambic', 'iambic']}, {'line': 'καὶ τελώνην καὶ φάραγγα καὶ Χάρυβδιν ἁρπαγῆς', 'metre': ['iambic', 'iambic', 'iambic', 'iambic']}]\n",
      "[{'line': 'μορφὴν δ’ ἀμείψας ἐκ θεοῦ βροτησίαν.', 'metre': ['iambic', 'iambic', 'iambic']}, {'line': 'καὶ τελώνην καὶ φάραγγα καὶ Χάρυβδιν ἁρπαγῆς,', 'metre': ['iambic', 'iambic', 'iambic', 'iambic']}, {'line': 'τόδ’ ἐγγὺς οἴκων καὶ δόμων ἐρείπια', 'metre': ['iambic', 'iambic', 'iambic']}]\n",
      "trochaic\n",
      "[{'line': 'έν τάγορά καθήμενος', 'metre': ['trochaic', 'trochaic']}, {'line': 'αἰνῶ δὲ Κάδμον, ἄβατον ὃς πέδον τόδε', 'metre': ['trochaic', 'trochaic', 'trochaic', 'trochaic']}, {'line': 'ὅστις Ἑλλήσποντον ἱρὸν δοῦλον ὣς δεσμώμασιν', 'metre': ['cretic_paeonic', 'cretic_paeonic', 'cretic_paeonic', 'cretic_paeonic', 'cretic_paeonic']}]\n",
      "[{'line': 'έν τάγορά καθήμενος', 'metre': ['trochaic', 'trochaic']}, {'line': 'εἶτα θυμαίνειν ἔφασκε· δεινὰ γὰρ πεπονθέναι', 'metre': ['dactylic', 'trochaic', 'trochaic', 'trochaic', 'trochaic']}, {'line': 'ὠφελοῦσ’ ὑμᾶς ἅπαντας, οὐ λόγοις ἀλλ’ ἐμφανῶς', 'metre': ['trochaic', 'trochaic', 'trochaic', 'trochaic', 'trochaic']}]\n",
      "anapaestic\n",
      "[{'line': 'ὅτ’ ἐγὼ τὰ δίκαια λέγων ἤνθουν καὶ σωφροσύνη ’νενόμισ.', 'metre': ['anapaestic', 'anapaestic', 'anapaestic', 'anapaestic']}, {'line': 'πρῶτον μὲν ἔδει παιδὸς φωνὴν γρύξαντος μηδὲν ἀκοῦσ', 'metre': ['anapaestic', 'anapaestic', 'anapaestic', 'anapaestic']}, {'line': 'εἶτα βαδίζειν ἐν ταῖσιν ὁδοῖς εὐτάκτως ἐς κιθαρισ', 'metre': ['dactylic', 'dactylic', 'dactylic', 'dactylic', 'dactylic', 'dactylic']}]\n",
      "[{'line': 'τὰδὲ παννυχίδων ἤδη στυγεραὶ', 'metre': ['anapaestic', 'anapaestic', 'anapaestic', 'anapaestic']}, {'line': 'οἴμοι, θανάτου τοῦτʼ ἐγγυτάτω', 'metre': ['anapaestic', 'anapaestic', 'anapaestic', 'anapaestic']}, {'line': 'ὅτ’ ἐγὼ τὰ δίκαια λέγων ἤνθουν καὶ σωφροσύνη ’νενόμιστο', 'metre': ['anapaestic', 'anapaestic', 'anapaestic', 'anapaestic']}]\n",
      "ionic\n",
      "[{'line': 'πότνι’ εὐπάρθενε Δίρκα,', 'metre': ['ionic', 'ionic']}, {'line': 'σὺ γὰρ ἐν σαῖς ποτε παγ', 'metre': ['dochmiac']}, {'line': 'πέτομαι δ’ ἐλπίσιν οὔτ’ ἐν-', 'metre': ['ionic', 'ionic']}]\n",
      "[{'line': 'χιε, Θήβαις ὀνομάζειν.', 'metre': ['ionic', 'ionic']}, {'line': 'λύπᾳκαὶ παρὰ νοῦν θροεῖν.', 'metre': ['ionic', 'ionic']}, {'line': 'ἀναφαίνω σε τόδ’, ὦ Βάκ', 'metre': ['ionic', 'ionic']}]\n",
      "choriamb\n",
      "[{'line': 'δεινὰ μὲν οὖν, δεινὰ ταράσ-', 'metre': ['choriamb', 'choriamb']}, {'line': 'σει σοφὸς οἰωνοθέτας', 'metre': ['choriamb', 'choriamb']}, {'line': 'οὔτε δοκοῦντ’ οὔτ’ ἀποφάσ-', 'metre': ['choriamb', 'choriamb']}]\n",
      "aeolo_choriambic\n",
      "[{'line': 'φαίνεταί μοι κῆνος ἴσος θέοισιν', 'metre': ['aeolo_choriambic']}, {'line': 'ἔμμεν᾽ ὤνηρ, ὄπις ἐνάντιός τοι', 'metre': ['trochaic', 'trochaic', 'trochaic', 'trochaic']}, {'line': 'καὶ Πληΐαδες, μέσαι δέ', 'metre': ['iambic', 'iambic']}]\n",
      "[{'line': 'καὶ Πληΐαδες, μέσαι δέ', 'metre': ['iambic', 'iambic']}, {'line': 'Δέδυκε μὲν ἀ σελάννα', 'metre': ['dactylic', 'dactylic']}, {'line': 'νύκτες, πάρα δ ἔρχετ ὤρα,', 'metre': ['dactylic', 'dactylic', 'dactylic']}]\n",
      "dactylo_epitrite\n",
      "[{'line': 'θεῖτ᾽ ἐμᾷ γνώμᾳ κράτος ἀντίπαλον Ζεύς,', 'metre': ['dactylo_epitrite']}, {'line': 'μηδ᾽ ἐλινύσαιμι θεοὺς ὁσίαις θοίναις ποτινισομένα', 'metre': ['dactylo_epitrite']}, {'line': 'ώς τό κηδεΰσαι καθ’ εαυτόν αριστεύει μακρώ', 'metre': ['dactylo_epitrite']}]\n",
      "[{'line': 'ώς τό κηδεΰσαι καθ’ εαυτόν αριστεύει μακρώ', 'metre': ['dactylo_epitrite']}, {'line': 'βουφόνοις παρ᾽ Ὠκεανοῦ πατρὸς ἄσβεστον πόρον', 'metre': ['dactylo_epitrite']}, {'line': 'μηδ᾽ ἀλίτοιμι λόγοις', 'metre': ['dochmiac']}]\n",
      "cretic_paeonic\n",
      "[{'line': 'έκπέφευγ’, οϊχεται', 'metre': ['cretic_paeonic', 'cretic_paeonic']}, {'line': 'πανδίκως ευσεβής πρόξενος,', 'metre': ['cretic_paeonic', 'cretic_paeonic', 'cretic_paeonic']}, {'line': 'μή τις εΐη δόλος.', 'metre': ['aeolo_choriambic']}]\n",
      "[{'line': 'ούκ άν έπ’ έμής γέ νεότητος δτ’ έγώ φέρων', 'metre': ['cretic_paeonic', 'cretic_paeonic', 'cretic_paeonic', 'cretic_paeonic']}, {'line': 'ανθράκων φορτίον', 'metre': ['cretic_paeonic', 'cretic_paeonic']}, {'line': 'πανδίκως ευσεβής πρόξενος,', 'metre': ['cretic_paeonic', 'cretic_paeonic', 'cretic_paeonic']}]\n",
      "dochmiac\n",
      "[{'line': 'ώ μεγάλα φάτις, ώ ματερ αίσχύνας εμάς', 'metre': ['dochmiac', 'dochmiac']}, {'line': 'τάν δ’ έμάν εύκλειαν έχειν βιοτάν στρέψουσι φάμαι', 'metre': ['dochmiac', 'dochmiac']}, {'line': 'εἶσι δόμων Ἐρινύς, ὅταν ἐκ χερῶν', 'metre': ['dactylic', 'dactylic', 'dactylic', 'dactylic']}]\n",
      "[{'line': 'βαρύττοτμον, γύνοα, προσαυδώντύχω', 'metre': ['dochmiac', 'dochmiac']}, {'line': 'όρδσθαι λέων.', 'metre': ['iambic']}, {'line': 'σῃ βίον εὖ κυρήσας μελάναιγις δʼ οὐκ', 'metre': ['dochmiac', 'dochmiac']}]\n",
      "167\n"
     ]
    }
   ],
   "source": [
    "test_set = {\n",
    "    'dactylic': [['ώ πάτερ, ώ πάτερ άρ’ ετυμός γε', 'ώς σΰ μετ’ ορνίθων προλιπών έμέ', 'μῆνιν ἄειδε, θεά, Πηληϊάδεω Ἀχιλῆος'], ['οὐλομένην, ἣ μυρί’ Ἀχαιοῖς ἄλγε’ ἔθηκες', 'ὦ ξεῖν’, ἀγγέλλειν Λακεδαιμονίοις ὅτι τῇδε', 'ἐξ οὗ δὴ τὰ πρῶτα διαστήτην ἐρίσαντε.']],\n",
    "    'iambic': [['ἥκω Διὸς παῖς τήνδε Θηβαίων χθὀνα', 'ήδιστον ευρών, δεΰρο συνακολούθε', 'καὶ τελώνην καὶ φάραγγα καὶ Χάρυβδιν ἁρπαγῆς'], ['μορφὴν δ’ ἀμείψας ἐκ θεοῦ βροτησίαν.', 'καὶ τελώνην καὶ φάραγγα καὶ Χάρυβδιν ἁρπαγῆς,', 'τόδ’ ἐγγὺς οἴκων καὶ δόμων ἐρείπια']],\n",
    "    'trochaic': [['έν τάγορά καθήμενος', 'αἰνῶ δὲ Κάδμον, ἄβατον ὃς πέδον τόδε', 'ὅστις Ἑλλήσποντον ἱρὸν δοῦλον ὣς δεσμώμασιν'],  ['έν τάγορά καθήμενος', 'εἶτα θυμαίνειν ἔφασκε· δεινὰ γὰρ πεπονθέναι', 'ὠφελοῦσ’ ὑμᾶς ἅπαντας, οὐ λόγοις ἀλλ’ ἐμφανῶς']],\n",
    "    'anapaestic': [['ὅτ’ ἐγὼ τὰ δίκαια λέγων ἤνθουν καὶ σωφροσύνη ’νενόμισ.', 'πρῶτον μὲν ἔδει παιδὸς φωνὴν γρύξαντος μηδὲν ἀκοῦσ', 'εἶτα βαδίζειν ἐν ταῖσιν ὁδοῖς εὐτάκτως ἐς κιθαρισ'], ['τὰδὲ παννυχίδων ἤδη στυγεραὶ', 'οἴμοι, θανάτου τοῦτʼ ἐγγυτάτω', 'ὅτ’ ἐγὼ τὰ δίκαια λέγων ἤνθουν καὶ σωφροσύνη ’νενόμιστο']],\n",
    "    'ionic': [['πότνι’ εὐπάρθενε Δίρκα,', 'σὺ γὰρ ἐν σαῖς ποτε παγ', 'πέτομαι δ’ ἐλπίσιν οὔτ’ ἐν-'], ['χιε, Θήβαις ὀνομάζειν.', 'λύπᾳκαὶ παρὰ νοῦν θροεῖν.', 'ἀναφαίνω σε τόδ’, ὦ Βάκ']],\n",
    "    'choriamb': [['δεινὰ μὲν οὖν, δεινὰ ταράσ-', 'σει σοφὸς οἰωνοθέτας', 'οὔτε δοκοῦντ’ οὔτ’ ἀποφάσ-']],\n",
    "    'aeolo_choriambic': [['φαίνεταί μοι κῆνος ἴσος θέοισιν', 'ἔμμεν᾽ ὤνηρ, ὄπις ἐνάντιός τοι', 'καὶ Πληΐαδες, μέσαι δέ'], ['καὶ Πληΐαδες, μέσαι δέ', 'Δέδυκε μὲν ἀ σελάννα', 'νύκτες, πάρα δ ἔρχετ ὤρα,']],\n",
    "    'dactylo_epitrite': [['θεῖτ᾽ ἐμᾷ γνώμᾳ κράτος ἀντίπαλον Ζεύς,', 'μηδ᾽ ἐλινύσαιμι θεοὺς ὁσίαις θοίναις ποτινισομένα', 'ώς τό κηδεΰσαι καθ’ εαυτόν αριστεύει μακρώ'], ['ώς τό κηδεΰσαι καθ’ εαυτόν αριστεύει μακρώ', 'βουφόνοις παρ᾽ Ὠκεανοῦ πατρὸς ἄσβεστον πόρον', 'μηδ᾽ ἀλίτοιμι λόγοις']],\n",
    "    'cretic_paeonic': [['έκπέφευγ’, οϊχεται', 'πανδίκως ευσεβής πρόξενος,', 'μή τις εΐη δόλος.'], ['ούκ άν έπ’ έμής γέ νεότητος δτ’ έγώ φέρων', 'ανθράκων φορτίον', 'πανδίκως ευσεβής πρόξενος,']],\n",
    "    'dochmiac': [['ώ μεγάλα φάτις, ώ ματερ αίσχύνας εμάς', 'τάν δ’ έμάν εύκλειαν έχειν βιοτάν στρέψουσι φάμαι', 'εἶσι δόμων Ἐρινύς, ὅταν ἐκ χερῶν'], ['βαρύττοτμον, γύνοα, προσαυδώντύχω', 'όρδσθαι λέων.', 'σῃ βίον εὖ κυρήσας μελάναιγις δʼ οὐκ']]}\n",
    "\n",
    "\n",
    "tot = 0\n",
    "good = 0\n",
    "for key, value in test_set.items():\n",
    "    print(key)\n",
    "    for item in value:\n",
    "        three_tests = []\n",
    "        for element in item:\n",
    "            three_tests.append(single_line_processing(element))\n",
    "        for element in three_line_processing(three_tests):\n",
    "            t = 0\n",
    "            if type(element['metre']) == list:\n",
    "                t+=len(element['metre'])\n",
    "            else:\n",
    "                t+=len(element['metre'].split(' '))\n",
    "            tot+=t\n",
    "        print(three_line_processing(three_tests))\n",
    "print(tot)\n"
   ]
  },
  {
   "cell_type": "markdown",
   "execution_count": null,
   "id": "fb19aa3c-5018-4883-a5f3-6c64000b448e",
   "metadata": {},
   "outputs": [],
   "source": [
    "80.023 % acc"
   ]
  }
 ],
 "metadata": {
  "kernelspec": {
   "display_name": "Python 3 (ipykernel)",
   "language": "python",
   "name": "python3"
  },
  "language_info": {
   "codemirror_mode": {
    "name": "ipython",
    "version": 3
   },
   "file_extension": ".py",
   "mimetype": "text/x-python",
   "name": "python",
   "nbconvert_exporter": "python",
   "pygments_lexer": "ipython3",
   "version": "3.12.0"
  }
 },
 "nbformat": 4,
 "nbformat_minor": 5
}
